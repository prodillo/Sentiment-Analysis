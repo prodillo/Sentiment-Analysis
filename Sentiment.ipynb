{
 "cells": [
  {
   "cell_type": "markdown",
   "metadata": {
    "deletable": true,
    "editable": true
   },
   "source": [
    "# Tweeter Sentiment Analysis\n",
    "\n",
    "More than 1,000 tweets containing the word Obama were analyzed to perform basic sentiment analysis: "
   ]
  },
  {
   "cell_type": "code",
   "execution_count": 1,
   "metadata": {
    "collapsed": true,
    "deletable": true,
    "editable": true
   },
   "outputs": [],
   "source": [
    "# print all the outputs in a cell\n",
    "from IPython.core.interactiveshell import InteractiveShell\n",
    "InteractiveShell.ast_node_interactivity = \"all\""
   ]
  },
  {
   "cell_type": "markdown",
   "metadata": {
    "deletable": true,
    "editable": true
   },
   "source": [
    "## Positive, Negative and Stop words"
   ]
  },
  {
   "cell_type": "markdown",
   "metadata": {
    "deletable": true,
    "editable": true
   },
   "source": [
    "The code below will create lists for positive words (pos_words), negative words (neg_words) and stop words (stop_words):"
   ]
  },
  {
   "cell_type": "code",
   "execution_count": 22,
   "metadata": {
    "collapsed": false,
    "deletable": true,
    "editable": true
   },
   "outputs": [],
   "source": [
    "pos=open(\"positive.txt\") # This file contains al list of 2,006 postive words\n",
    "pos_words=[]\n",
    "for line in pos:\n",
    "    pos_words.append(line.strip('\\n')) #remove line separator '\\n'\n",
    "\n",
    "neg=open(\"negative.txt\") # This file contains al list of 4,783 negative words\n",
    "neg_words=[]\n",
    "for line in neg:\n",
    "    neg_words.append(line.strip('\\n')) #remove line separator '\\n'\n",
    "\n",
    "stop=open(\"stopwords.txt\") # This file contains al list of 319 stop words\n",
    "stop_words=[]\n",
    "for line in stop:\n",
    "    stop_words.append(line.strip('\\n')) #remove line separator '\\n'"
   ]
  },
  {
   "cell_type": "markdown",
   "metadata": {
    "deletable": true,
    "editable": true
   },
   "source": [
    "## Cleaning the text"
   ]
  },
  {
   "cell_type": "markdown",
   "metadata": {
    "deletable": true,
    "editable": true
   },
   "source": [
    "In this part of the code, we will open the file that contains the tweets and clean it to obtain a list of words:"
   ]
  },
  {
   "cell_type": "code",
   "execution_count": 46,
   "metadata": {
    "collapsed": false,
    "deletable": true,
    "editable": true
   },
   "outputs": [],
   "source": [
    "f=open('obama.txt')\n",
    "import re\n",
    "raw_words=[] #Initialize the list to store each word\n",
    "for line in f:\n",
    "    line_cl=line.lower() #lower case all words in the line\n",
    "    line_cl=line_cl.strip('\\n') #remove line separator    \n",
    "    line_cl=line_cl.replace('-',' ') #remove - for \"obama-era\" type of words\n",
    "    line_cl=line_cl.replace('’','') #remove ’\n",
    "    line_cl=re.sub(r'[^\\x00-\\x7f]',r' ', line_cl) #remove unicode characters\n",
    "    line_cl = re.sub(r'https?:\\/\\/.*\\/[a-zA-Z0-9]*', ' ', line_cl) #remove hyperlinks\n",
    "    line_cl= re.sub('([@#][A-Za-z0-9]+)|([^0-9A-Za-z \\t+])|(\\w+:\\/\\/\\S+)',' ',line_cl) #remove words starting with @ and # and special characters like ? or !\n",
    "    line_cl= re.sub('[0-9]',' ',line_cl) #remove numbers\n",
    "    \n",
    "    line_cl=line_cl.split() #split each line in words\n",
    "    \n",
    "    raw_words+=line_cl # we add each word of each line in the list raw_words\n",
    "    \n",
    "words=[word for word in raw_words if word not in stop_words] # We create the final word list without stop words\n",
    "\n",
    "# We include this code to remove the word trump if we are analizing Obama's or Trump's tweets\n",
    "if f.name=='obama.txt' or f.name=='trump.txt':\n",
    "    trump=['trump','trumps']\n",
    "    words=[word for word in words if word not in trump]"
   ]
  },
  {
   "cell_type": "markdown",
   "metadata": {
    "deletable": true,
    "editable": true
   },
   "source": [
    "## Assigning scores"
   ]
  },
  {
   "cell_type": "markdown",
   "metadata": {
    "deletable": true,
    "editable": true
   },
   "source": [
    "Now, we will loop through the words looking for positive and negative words and storing each word with its value in the dictionary word_score:"
   ]
  },
  {
   "cell_type": "code",
   "execution_count": 47,
   "metadata": {
    "collapsed": false,
    "deletable": true,
    "editable": true
   },
   "outputs": [],
   "source": [
    "word_score={}\n",
    "for word in words:\n",
    "    if word in pos_words:\n",
    "        word_score[word]=word_score.get(word,0)+1 # Assign a value of 1 to each new word in the dictionary and add 1 to the existing ones\n",
    "    elif word in neg_words:\n",
    "        word_score[word]=word_score.get(word,0)-1 # Assign a value of -1 to each new word in the dictionary and add -1 to the existing ones\n",
    "    else:\n",
    "        word_score[word]=0 # Assign a value of 0 to all other words"
   ]
  },
  {
   "cell_type": "markdown",
   "metadata": {
    "deletable": true,
    "editable": true
   },
   "source": [
    "## Printing the results"
   ]
  },
  {
   "cell_type": "code",
   "execution_count": 48,
   "metadata": {
    "collapsed": false,
    "deletable": true,
    "editable": true
   },
   "outputs": [
    {
     "name": "stdout",
     "output_type": "stream",
     "text": [
      "The overall score for tweets containing the word \"obama\" is: -602\n",
      "The score for positive words is: 658\n",
      "The score for negative words is: 1260\n",
      "The ratio of positive words over negative words is: 0.522222222222\n",
      "The most frequent positive word was \"right\", appearing 99 times.\n",
      "The most frequent negative word was \"scandal\", appearing 85 times.\n",
      "\n",
      "The top positive words are: \n"
     ]
    },
    {
     "data": {
      "text/plain": [
       "['right',\n",
       " 'modern',\n",
       " 'like',\n",
       " 'positive',\n",
       " 'successful',\n",
       " 'worked',\n",
       " 'promise',\n",
       " 'greatest',\n",
       " 'popular',\n",
       " 'great']"
      ]
     },
     "execution_count": 48,
     "metadata": {},
     "output_type": "execute_result"
    },
    {
     "name": "stdout",
     "output_type": "stream",
     "text": [
      "The top negative words are: \n"
     ]
    },
    {
     "data": {
      "text/plain": [
       "['scandal',\n",
       " 'fake',\n",
       " 'slowly',\n",
       " 'breaking',\n",
       " 'lie',\n",
       " 'bogus',\n",
       " 'pathetic',\n",
       " 'problem',\n",
       " 'corruption',\n",
       " 'mess']"
      ]
     },
     "execution_count": 48,
     "metadata": {},
     "output_type": "execute_result"
    }
   ],
   "source": [
    "# Printing the results\n",
    "print 'The overall score for tweets containing the word \"' + str(f.name.rstrip('.txt')) + '\" is: ' + str(sum(word_score.values()))\n",
    "\n",
    "num_of_pos_words=sum(v for v in word_score.values() if v > 0)\n",
    "num_of_neg_words=sum(-v for v in word_score.values() if v < 0)\n",
    "ratio_pos_neg=float(num_of_pos_words)/num_of_neg_words\n",
    "\n",
    "print 'The score for positive words is: '+str(num_of_pos_words)\n",
    "print 'The score for negative words is: '+str(num_of_neg_words)\n",
    "print 'The ratio of positive words over negative words is: ' +str(ratio_pos_neg)\n",
    "\n",
    "max_value=max(word_score.values()) # Find the max value to find the word with the most positive score\n",
    "max_keys=[k for k, v in word_score.items() if v==max_value] # Find the word associated with the highest positive score\n",
    "\n",
    "print 'The most frequent positive word was \"' + str(max_keys[0]) +'\", appearing ' + str(max_value) +' times.'\n",
    "\n",
    "min_value=min(word_score.values()) # Find the min value to find the word with the most negative score\n",
    "min_keys=[k for k, v in word_score.items() if v==min_value] # Find the word associated with the most negative score\n",
    "\n",
    "print 'The most frequent negative word was \"' + str(min_keys[0])+'\", appearing ' + str(-min_value) + ' times.'\n",
    "\n",
    "\n",
    "print '\\nThe top positive words are: '\n",
    "sorted(word_score,key=word_score.get,reverse=True)[:10] # List the top ten positive words\n",
    "\n",
    "print 'The top negative words are: '\n",
    "sorted(word_score,key=word_score.get,reverse=False)[:10] # List the top ten negative words"
   ]
  },
  {
   "cell_type": "markdown",
   "metadata": {
    "deletable": true,
    "editable": true
   },
   "source": [
    "## Conclusions"
   ]
  },
  {
   "cell_type": "markdown",
   "metadata": {
    "deletable": true,
    "editable": true
   },
   "source": [
    "Little more than 1,000 tweets containing the word \"obama\" were analyzed using the code. After assigning  a score to each positive and negative word, removing the word \"trump\" from the list, the following results were obtained:\n",
    "\n",
    "- The overall score for tweets containing the word \"obama\" was -602\n",
    "- The score for positives words was 658\n",
    "- The score for negative words was 1260\n",
    "- The ratio of positive words over negative words is 0.52\n",
    "- The most frequent positive word was \"right\", appearing 99 times\n",
    "- The most frequent negative word was \"scandal\", appearing 85 times\n",
    "- The top positive words were: ['right','modern','like','positive','successful','worked','promise','greatest','popular','great']\n",
    "- The top negative words were: ['scandal','fake','slowly','breaking','lie','bogus','pathetic','problem','corruption','mess']\n",
    "\n",
    "Based on this results, we could say that this sample of tweets containing the word \"obama\" presents a negative trend. For each positive word we find in these tweets, there are almost two negative words.\n",
    "\n",
    "<b>Note:</b>\n",
    "\n",
    "Although it is possible to interpret this results as a negative trend, we have to be careful with the way we assign scores to each word. With this methodolgy, \"not right\" and \"right\" get the same postive value of 1, which can lead to some inaccuracies when assesing the trend of positive and negative comments."
   ]
  }
 ],
 "metadata": {
  "kernelspec": {
   "display_name": "Python 2",
   "language": "python",
   "name": "python2"
  },
  "language_info": {
   "codemirror_mode": {
    "name": "ipython",
    "version": 2
   },
   "file_extension": ".py",
   "mimetype": "text/x-python",
   "name": "python",
   "nbconvert_exporter": "python",
   "pygments_lexer": "ipython2",
   "version": "2.7.13"
  }
 },
 "nbformat": 4,
 "nbformat_minor": 2
}
